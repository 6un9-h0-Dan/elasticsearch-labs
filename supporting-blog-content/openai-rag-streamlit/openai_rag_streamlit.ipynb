{
  "cells": [
    {
      "cell_type": "markdown",
      "metadata": {
        "id": "f96b815e"
      },
      "source": [
        "# Build a Generative AI application using Elasticsearch and OpenAI"
      ]
    },
    {
      "cell_type": "markdown",
      "metadata": {
        "id": "e0f537af"
      },
      "source": [
        "[![Open In Colab](https://colab.research.google.com/assets/colab-badge.svg)](https://colab.research.google.com/github/elastic/elasticsearch-labs/blob/main/notebooks/integrations/openai/openai-KNN-RAG.ipynb)\n"
      ]
    },
    {
      "cell_type": "markdown",
      "metadata": {
        "id": "349e0e74"
      },
      "source": [
        "This notebook demonstrates how to:\n",
        "- Index the OpenAI Wikipedia vector dataset into Elasticsearch\n",
        "- Build a simple Gen AI application with Streamlit that retrieves context using Elasticsearch and formulate answers using OpenAI\n"
      ]
    },
    {
      "cell_type": "markdown",
      "metadata": {
        "id": "aa9576ca"
      },
      "source": [
        "## Install packages and import modules"
      ]
    },
    {
      "cell_type": "code",
      "execution_count": 1,
      "metadata": {
        "id": "8c304b93",
        "colab": {
          "base_uri": "https://localhost:8080/"
        },
        "outputId": "a95c9db8-a030-4f95-9fd4-6b8edd9add9b"
      },
      "outputs": [
        {
          "output_type": "stream",
          "name": "stdout",
          "text": [
            "\u001b[2K     \u001b[90m━━━━━━━━━━━━━━━━━━━━━━━━━━━━━━━━━━━━━━━━\u001b[0m \u001b[32m73.6/73.6 kB\u001b[0m \u001b[31m1.5 MB/s\u001b[0m eta \u001b[36m0:00:00\u001b[0m\n",
            "\u001b[?25h  Preparing metadata (setup.py) ... \u001b[?25l\u001b[?25hdone\n",
            "\u001b[2K     \u001b[90m━━━━━━━━━━━━━━━━━━━━━━━━━━━━━━━━━━━━━━━\u001b[0m \u001b[32m395.5/395.5 kB\u001b[0m \u001b[31m6.2 MB/s\u001b[0m eta \u001b[36m0:00:00\u001b[0m\n",
            "\u001b[2K     \u001b[90m━━━━━━━━━━━━━━━━━━━━━━━━━━━━━━━━━━━━━━━━\u001b[0m \u001b[32m8.1/8.1 MB\u001b[0m \u001b[31m17.1 MB/s\u001b[0m eta \u001b[36m0:00:00\u001b[0m\n",
            "\u001b[2K     \u001b[90m━━━━━━━━━━━━━━━━━━━━━━━━━━━━━━━━━━━━━━━━\u001b[0m \u001b[32m59.5/59.5 kB\u001b[0m \u001b[31m2.7 MB/s\u001b[0m eta \u001b[36m0:00:00\u001b[0m\n",
            "\u001b[2K     \u001b[90m━━━━━━━━━━━━━━━━━━━━━━━━━━━━━━━━━━━━━━\u001b[0m \u001b[32m164.8/164.8 kB\u001b[0m \u001b[31m12.7 MB/s\u001b[0m eta \u001b[36m0:00:00\u001b[0m\n",
            "\u001b[2K     \u001b[90m━━━━━━━━━━━━━━━━━━━━━━━━━━━━━━━━━━━━━━\u001b[0m \u001b[32m188.5/188.5 kB\u001b[0m \u001b[31m17.1 MB/s\u001b[0m eta \u001b[36m0:00:00\u001b[0m\n",
            "\u001b[2K     \u001b[90m━━━━━━━━━━━━━━━━━━━━━━━━━━━━━━━━━━━━━━━━\u001b[0m \u001b[32m4.7/4.7 MB\u001b[0m \u001b[31m29.2 MB/s\u001b[0m eta \u001b[36m0:00:00\u001b[0m\n",
            "\u001b[2K     \u001b[90m━━━━━━━━━━━━━━━━━━━━━━━━━━━━━━━━━━━━━━━━\u001b[0m \u001b[32m82.1/82.1 kB\u001b[0m \u001b[31m8.2 MB/s\u001b[0m eta \u001b[36m0:00:00\u001b[0m\n",
            "\u001b[2K     \u001b[90m━━━━━━━━━━━━━━━━━━━━━━━━━━━━━━━━━━━━━━\u001b[0m \u001b[32m143.1/143.1 kB\u001b[0m \u001b[31m14.4 MB/s\u001b[0m eta \u001b[36m0:00:00\u001b[0m\n",
            "\u001b[2K     \u001b[90m━━━━━━━━━━━━━━━━━━━━━━━━━━━━━━━━━━━━━━━━\u001b[0m \u001b[32m62.7/62.7 kB\u001b[0m \u001b[31m5.7 MB/s\u001b[0m eta \u001b[36m0:00:00\u001b[0m\n",
            "\u001b[2K     \u001b[90m━━━━━━━━━━━━━━━━━━━━━━━━━━━━━━━━━━━━━━\u001b[0m \u001b[32m341.8/341.8 kB\u001b[0m \u001b[31m17.2 MB/s\u001b[0m eta \u001b[36m0:00:00\u001b[0m\n",
            "\u001b[?25h  Building wheel for wget (setup.py) ... \u001b[?25l\u001b[?25hdone\n"
          ]
        }
      ],
      "source": [
        "# install packages\n",
        "\n",
        "!python3 -m pip install -qU openai pandas==1.5.3 wget elasticsearch streamlit tqdm\n",
        "\n",
        "# import modules\n",
        "\n",
        "import os\n",
        "from getpass import getpass\n",
        "from elasticsearch import Elasticsearch, helpers\n",
        "import wget, zipfile, pandas as pd, json, openai\n",
        "import streamlit as st\n",
        "from tqdm.notebook import tqdm"
      ]
    },
    {
      "cell_type": "markdown",
      "metadata": {
        "id": "de32a789"
      },
      "source": [
        "## Connect to Elasticsearch\n",
        "\n",
        "ℹ️ We're using an Elastic Cloud deployment of Elasticsearch for this notebook.\n",
        "If you don't already have an Elastic deployment, you can sign up for a free [Elastic Cloud trial](https://cloud.elastic.co/registration?fromURI=%2Fhome).\n",
        "\n",
        "To connect to Elasticsearch, you need to create a client instance with the Cloud ID and password for your deployment.\n",
        "\n",
        "Find the Cloud ID for your deployment by going to https://cloud.elastic.co/deployments and selecting your deployment."
      ]
    },
    {
      "cell_type": "code",
      "execution_count": 2,
      "metadata": {
        "id": "3a57b6a8",
        "colab": {
          "base_uri": "https://localhost:8080/"
        },
        "outputId": "ce15156e-7cc2-45c6-eb11-5fe5bc160669"
      },
      "outputs": [
        {
          "name": "stdout",
          "output_type": "stream",
          "text": [
            "Elastic deployment Cloud ID··········\n",
            "Elastic deployment Password··········\n"
          ]
        }
      ],
      "source": [
        "os.environ['es_cloud_id'] = getpass(\"Elastic deployment Cloud ID\")\n",
        "os.environ['es_password'] = getpass(\"Elastic deployment Password\")"
      ]
    },
    {
      "cell_type": "markdown",
      "source": [
        "Test the connection with Elasticsearch."
      ],
      "metadata": {
        "id": "cb2ng640_o2n"
      }
    },
    {
      "cell_type": "code",
      "source": [
        "es_cloud_id = os.environ['es_cloud_id']\n",
        "es_password = os.environ['es_password']\n",
        "\n",
        "client = Elasticsearch(\n",
        "  cloud_id = es_cloud_id,\n",
        "  basic_auth=(\"elastic\", es_password) # Alternatively use `api_key` instead of `basic_auth`\n",
        ")\n",
        "\n",
        "# Test connection to Elasticsearch\n",
        "print(client.info())"
      ],
      "metadata": {
        "id": "NJkflYkGHnGL",
        "colab": {
          "base_uri": "https://localhost:8080/"
        },
        "outputId": "0013cc77-4ab1-42f8-93b5-dd4df045e18a"
      },
      "execution_count": 3,
      "outputs": [
        {
          "output_type": "stream",
          "name": "stdout",
          "text": [
            "{'name': 'instance-0000000001', 'cluster_name': '952b120be46245d18712eb06eaf6c0fd', 'cluster_uuid': 'NuMLaGTgSEmU4G5xI43G4g', 'version': {'number': '8.9.0', 'build_flavor': 'default', 'build_type': 'docker', 'build_hash': '8aa461beb06aa0417a231c345a1b8c38fb498a0d', 'build_date': '2023-07-19T14:43:58.555259655Z', 'build_snapshot': False, 'lucene_version': '9.7.0', 'minimum_wire_compatibility_version': '7.17.0', 'minimum_index_compatibility_version': '7.0.0'}, 'tagline': 'You Know, for Search'}\n"
          ]
        }
      ]
    },
    {
      "cell_type": "markdown",
      "source": [
        "## Configure OpenAI connection\n",
        "\n",
        "Our example will use OpenAI to formulate an answer, so please provide a valid OpenAI Api Key here.\n",
        "\n",
        "You can follow [this guide](https://help.openai.com/en/articles/4936850-where-do-i-find-my-secret-api-key) to retrieve your API Key.\n",
        "\n",
        "Then test the connection with OpenAI and check the model used in this notebook is available."
      ],
      "metadata": {
        "id": "JiA-4-Kb-C3K"
      }
    },
    {
      "cell_type": "code",
      "source": [
        "os.environ['openai_api_key'] = getpass(\"OpenAI Api Key\")\n",
        "openai.api_key = os.environ['openai_api_key']\n",
        "openai.Model.retrieve(\"text-embedding-ada-002\")"
      ],
      "metadata": {
        "colab": {
          "base_uri": "https://localhost:8080/"
        },
        "id": "imKyf8sm-caV",
        "outputId": "71b9a8d3-bdcf-45d5-a80b-5812e209aecd"
      },
      "execution_count": 5,
      "outputs": [
        {
          "name": "stdout",
          "output_type": "stream",
          "text": [
            "OpenAI Api Key··········\n"
          ]
        },
        {
          "output_type": "execute_result",
          "data": {
            "text/plain": [
              "<Model model id=text-embedding-ada-002 at 0x7bcb695fad40> JSON: {\n",
              "  \"id\": \"text-embedding-ada-002\",\n",
              "  \"object\": \"model\",\n",
              "  \"created\": 1671217299,\n",
              "  \"owned_by\": \"openai-internal\",\n",
              "  \"permission\": [\n",
              "    {\n",
              "      \"id\": \"modelperm-F3BGCNGb0ChzFesHIYjbNYUX\",\n",
              "      \"object\": \"model_permission\",\n",
              "      \"created\": 1690865307,\n",
              "      \"allow_create_engine\": false,\n",
              "      \"allow_sampling\": true,\n",
              "      \"allow_logprobs\": true,\n",
              "      \"allow_search_indices\": true,\n",
              "      \"allow_view\": true,\n",
              "      \"allow_fine_tuning\": false,\n",
              "      \"organization\": \"*\",\n",
              "      \"group\": null,\n",
              "      \"is_blocking\": false\n",
              "    }\n",
              "  ],\n",
              "  \"root\": \"text-embedding-ada-002\",\n",
              "  \"parent\": null\n",
              "}"
            ]
          },
          "metadata": {},
          "execution_count": 5
        }
      ]
    },
    {
      "cell_type": "markdown",
      "metadata": {
        "id": "80b55952"
      },
      "source": [
        "## Download the dataset\n",
        "\n",
        "In this step we download the OpenAI Wikipedia embeddings dataset, and extract the zip file."
      ]
    },
    {
      "cell_type": "code",
      "execution_count": 6,
      "metadata": {
        "id": "c584f15c"
      },
      "outputs": [],
      "source": [
        "embeddings_url = 'https://cdn.openai.com/API/examples/data/vector_database_wikipedia_articles_embedded.zip'\n",
        "wget.download(embeddings_url)\n",
        "\n",
        "with zipfile.ZipFile(\"vector_database_wikipedia_articles_embedded.zip\",\n",
        "\"r\") as zip_ref:\n",
        "    zip_ref.extractall(\"data\")"
      ]
    },
    {
      "cell_type": "markdown",
      "metadata": {
        "id": "9654ac08"
      },
      "source": [
        "##  Read CSV file into a Pandas DataFrame\n",
        "\n",
        "Next we use the Pandas library to read the unzipped CSV file into a DataFrame. This step makes it easier to index the data into Elasticsearch in bulk."
      ]
    },
    {
      "cell_type": "code",
      "execution_count": 7,
      "metadata": {
        "id": "76347d10"
      },
      "outputs": [],
      "source": [
        "\n",
        "wikipedia_dataframe = pd.read_csv(\"data/vector_database_wikipedia_articles_embedded.csv\")"
      ]
    },
    {
      "cell_type": "markdown",
      "metadata": {
        "id": "6af9f5ad"
      },
      "source": [
        "## Create index with mapping\n",
        "\n",
        "Now we need to create an Elasticsearch index with the necessary mappings. This will enable us to index the data into Elasticsearch.\n",
        "\n",
        "We use the `dense_vector` field type for the `title_vector` and  `content_vector` fields. This is a special field type that allows us to store dense vectors in Elasticsearch.\n",
        "\n",
        "Later, we'll need to target the `dense_vector` field for kNN search.\n"
      ]
    },
    {
      "cell_type": "code",
      "execution_count": 8,
      "metadata": {
        "id": "681989b3",
        "colab": {
          "base_uri": "https://localhost:8080/"
        },
        "outputId": "150ff0ac-8e7c-4494-b189-767e922e9c48"
      },
      "outputs": [
        {
          "output_type": "execute_result",
          "data": {
            "text/plain": [
              "ObjectApiResponse({'acknowledged': True, 'shards_acknowledged': True, 'index': 'wikipedia_vector_index'})"
            ]
          },
          "metadata": {},
          "execution_count": 8
        }
      ],
      "source": [
        "index_mapping= {\n",
        "    \"properties\": {\n",
        "      \"title_vector\": {\n",
        "          \"type\": \"dense_vector\",\n",
        "          \"dims\": 1536,\n",
        "          \"index\": \"true\",\n",
        "          \"similarity\": \"cosine\"\n",
        "      },\n",
        "      \"content_vector\": {\n",
        "          \"type\": \"dense_vector\",\n",
        "          \"dims\": 1536,\n",
        "          \"index\": \"true\",\n",
        "          \"similarity\": \"cosine\"\n",
        "      },\n",
        "      \"text\": {\"type\": \"text\"},\n",
        "      \"title\": {\"type\": \"text\"},\n",
        "      \"url\": { \"type\": \"keyword\"},\n",
        "      \"vector_id\": {\"type\": \"long\"}\n",
        "\n",
        "    }\n",
        "}\n",
        "client.indices.create(index=\"wikipedia_vector_index\", mappings=index_mapping)"
      ]
    },
    {
      "cell_type": "markdown",
      "metadata": {
        "id": "c2fb582e"
      },
      "source": [
        "## Index data into Elasticsearch\n",
        "\n",
        "The following function generates the required bulk actions that can be passed to Elasticsearch's Bulk API, so we can index multiple documents efficiently in a single request.\n",
        "\n",
        "For each row in the DataFrame, the function yields a dictionary representing a single document to be indexed."
      ]
    },
    {
      "cell_type": "code",
      "execution_count": 9,
      "metadata": {
        "id": "efee9b97"
      },
      "outputs": [],
      "source": [
        "def dataframe_to_bulk_actions(df):\n",
        "    for index, row in df.iterrows():\n",
        "        yield {\n",
        "            \"_index\": 'wikipedia_vector_index',\n",
        "            \"_id\": row['id'],\n",
        "            \"_source\": {\n",
        "                'url' : row[\"url\"],\n",
        "                'title' : row[\"title\"],\n",
        "                'text' : row[\"text\"],\n",
        "                'title_vector' : json.loads(row[\"title_vector\"]),\n",
        "                'content_vector' : json.loads(row[\"content_vector\"]),\n",
        "                'vector_id' : row[\"vector_id\"]\n",
        "            }\n",
        "        }"
      ]
    },
    {
      "cell_type": "markdown",
      "metadata": {
        "id": "b8164b38"
      },
      "source": [
        "As the dataframe is large, we will index data in batches of `100`. We index the data into Elasticsearch using the Python client's [helpers](https://www.elastic.co/guide/en/elasticsearch/client/python-api/current/client-helpers.html#bulk-helpers) for the bulk API."
      ]
    },
    {
      "cell_type": "code",
      "execution_count": 10,
      "metadata": {
        "id": "aacb5e9c",
        "colab": {
          "base_uri": "https://localhost:8080/",
          "height": 49,
          "referenced_widgets": [
            "4b9076717c6844e2a592dd8d2a4d3176",
            "150d151bcb7e4ba3864bd240fdb67c4c",
            "92994757887145e7a6b5df1cd0207e13",
            "1a6b00b580c643b5a5410f47a11d3808",
            "3f57772d66e54f74848b96e7c36ce498",
            "6a44a9e385f5414890fc8e0b42d5df40",
            "78898334c9804efaad13c045ccea08b7",
            "5feed6551e60468580451b373d9f959a",
            "3883ead1e47b4deebdace64e7538742a",
            "46bae2820ca848458d3dae72c7943f68",
            "ef59ba9ca3034d229098e26e88c04472"
          ]
        },
        "outputId": "df6eaef2-b3e0-432a-cb63-3c8e1c23aa41"
      },
      "outputs": [
        {
          "output_type": "display_data",
          "data": {
            "text/plain": [
              "  0%|          | 0/25000 [00:00<?, ?documents/s]"
            ],
            "application/vnd.jupyter.widget-view+json": {
              "version_major": 2,
              "version_minor": 0,
              "model_id": "4b9076717c6844e2a592dd8d2a4d3176"
            }
          },
          "metadata": {}
        }
      ],
      "source": [
        "total_documents = len(wikipedia_dataframe)\n",
        "\n",
        "progress_bar = tqdm(total=total_documents, unit=\"documents\")\n",
        "success_count = 0\n",
        "\n",
        "for ok, info in helpers.streaming_bulk(client, actions=dataframe_to_bulk_actions(wikipedia_dataframe), raise_on_error=False, chunk_size=100):\n",
        "  if ok:\n",
        "    success_count += 1\n",
        "  else:\n",
        "    print(f\"Unable to index {info['index']['_id']}: {info['index']['error']}\")\n",
        "  progress_bar.update(1)\n",
        "  progress_bar.set_postfix(success=success_count)"
      ]
    },
    {
      "cell_type": "markdown",
      "source": [
        "## Build application with Streamlit\n",
        "\n",
        "In the following section, you will build a simple interface using streamlit.\n",
        "\n",
        "This application will display a simple search bar where an user can ask a question. Elasticsearch is used to retrieve the relevant documents (context) matching the question then OpenAI formulate an answer using the context."
      ],
      "metadata": {
        "id": "rnJbAQdgbXSm"
      }
    },
    {
      "cell_type": "markdown",
      "source": [
        "Install the dependency to access the application once running."
      ],
      "metadata": {
        "id": "I55fQHW589RP"
      }
    },
    {
      "cell_type": "code",
      "source": [
        "!npm install localtunnel"
      ],
      "metadata": {
        "id": "LnL-wOdRct5O",
        "colab": {
          "base_uri": "https://localhost:8080/"
        },
        "outputId": "85a01326-2308-4d37-a066-6b6165d08706"
      },
      "execution_count": 11,
      "outputs": [
        {
          "output_type": "stream",
          "name": "stdout",
          "text": [
            "\u001b[K\u001b[?25h\u001b[37;40mnpm\u001b[0m \u001b[0m\u001b[30;43mWARN\u001b[0m \u001b[0m\u001b[35msaveError\u001b[0m ENOENT: no such file or directory, open '/content/package.json'\n",
            "\u001b[0m\u001b[37;40mnpm\u001b[0m \u001b[0m\u001b[34;40mnotice\u001b[0m\u001b[35m\u001b[0m created a lockfile as package-lock.json. You should commit this file.\n",
            "\u001b[0m\u001b[37;40mnpm\u001b[0m \u001b[0m\u001b[30;43mWARN\u001b[0m \u001b[0m\u001b[35menoent\u001b[0m ENOENT: no such file or directory, open '/content/package.json'\n",
            "\u001b[0m\u001b[37;40mnpm\u001b[0m \u001b[0m\u001b[30;43mWARN\u001b[0m\u001b[35m\u001b[0m content No description\n",
            "\u001b[0m\u001b[37;40mnpm\u001b[0m \u001b[0m\u001b[30;43mWARN\u001b[0m\u001b[35m\u001b[0m content No repository field.\n",
            "\u001b[0m\u001b[37;40mnpm\u001b[0m \u001b[0m\u001b[30;43mWARN\u001b[0m\u001b[35m\u001b[0m content No README data\n",
            "\u001b[0m\u001b[37;40mnpm\u001b[0m \u001b[0m\u001b[30;43mWARN\u001b[0m\u001b[35m\u001b[0m content No license field.\n",
            "\u001b[0m\n",
            "+ localtunnel@2.0.2\n",
            "added 22 packages from 22 contributors and audited 22 packages in 2.111s\n",
            "\n",
            "3 packages are looking for funding\n",
            "  run `npm fund` for details\n",
            "\n",
            "found \u001b[92m0\u001b[0m vulnerabilities\n",
            "\n",
            "\u001b[K\u001b[?25h"
          ]
        }
      ]
    },
    {
      "cell_type": "markdown",
      "source": [
        "Create application"
      ],
      "metadata": {
        "id": "LkEHb4VMevcc"
      }
    },
    {
      "cell_type": "code",
      "source": [
        "%%writefile app.py\n",
        "\n",
        "import os\n",
        "import streamlit as st\n",
        "import openai\n",
        "from elasticsearch import Elasticsearch\n",
        "\n",
        "\n",
        "# Elastic Cloud\n",
        "es_cloud_id = os.environ['es_cloud_id']\n",
        "es_password = os.environ['es_password']\n",
        "\n",
        "# OpenAI\n",
        "openai.api_key = os.environ['openai_api_key']\n",
        "\n",
        "# Define model\n",
        "EMBEDDING_MODEL = \"text-embedding-ada-002\"\n",
        "\n",
        "# Connect to Elasticsearch\n",
        "client = Elasticsearch(\n",
        "  cloud_id = es_cloud_id,\n",
        "  basic_auth=(\"elastic\", es_password) # Alternatively use `api_key` instead of `basic_auth`\n",
        ")\n",
        "\n",
        "def openai_summarize(query, response):\n",
        "    context = response['hits']['hits'][0]['_source']['text']\n",
        "    summary = openai.ChatCompletion.create(\n",
        "    model=\"gpt-3.5-turbo\",\n",
        "    messages=[\n",
        "            {\"role\": \"system\", \"content\": \"You are a helpful assistant.\"},\n",
        "            {\"role\": \"user\", \"content\": \"Answer the following question:\" + query + \"by using the following text: \" + context},\n",
        "        ]\n",
        "    )\n",
        "    return summary.choices[0].message.content\n",
        "\n",
        "\n",
        "def search_es(query):\n",
        "    # Create embedding\n",
        "    question_embedding = openai.Embedding.create(input=query, model=EMBEDDING_MODEL)\n",
        "\n",
        "    # Define Elasticsearch query\n",
        "    response = client.search(\n",
        "    index = \"wikipedia_vector_index\",\n",
        "    knn={\n",
        "        \"field\": \"content_vector\",\n",
        "        \"query_vector\":  question_embedding[\"data\"][0][\"embedding\"],\n",
        "        \"k\": 10,\n",
        "        \"num_candidates\": 100\n",
        "        }\n",
        "    )\n",
        "    return response\n",
        "\n",
        "\n",
        "def main():\n",
        "    st.title(\"Gen AI Application\")\n",
        "\n",
        "    # Input for user search query\n",
        "    user_query = st.text_input(\"Enter your question:\")\n",
        "\n",
        "    if st.button(\"Search\"):\n",
        "        if user_query:\n",
        "\n",
        "            st.write(f\"Searching for: {user_query}\")\n",
        "            result = search_es(user_query)\n",
        "\n",
        "            # print(result)\n",
        "            openai_summary = openai_summarize(user_query, result)\n",
        "            st.write(f\"OpenAI Summary: {openai_summary}\")\n",
        "\n",
        "            # Display search results\n",
        "            if result['hits']['total']['value'] > 0:\n",
        "                st.write(\"Search Results:\")\n",
        "                for hit in result['hits']['hits']:\n",
        "                    st.write(hit['_source']['title'])\n",
        "                    st.write(hit['_source']['text'])\n",
        "            else:\n",
        "                st.write(\"No results found.\")\n",
        "\n",
        "if __name__ == \"__main__\":\n",
        "    main()\n",
        "\n"
      ],
      "metadata": {
        "id": "_J7keMUAewy1",
        "colab": {
          "base_uri": "https://localhost:8080/"
        },
        "outputId": "2288bc7a-d65c-49fd-a4fa-06e298dee5af"
      },
      "execution_count": 12,
      "outputs": [
        {
          "output_type": "stream",
          "name": "stdout",
          "text": [
            "Writing app.py\n"
          ]
        }
      ]
    },
    {
      "cell_type": "markdown",
      "source": [
        "### Run the application\n",
        "\n",
        "Run the application and check your IP for the tunneling"
      ],
      "metadata": {
        "id": "BU1WKBVGe5ZY"
      }
    },
    {
      "cell_type": "code",
      "source": [
        "!streamlit run app.py &> /content/app.log & curl ipv4.icanhazip.com"
      ],
      "metadata": {
        "id": "-oQa-VV6e40J",
        "colab": {
          "base_uri": "https://localhost:8080/"
        },
        "outputId": "7c936cd1-afc8-40dc-98eb-648251d584c4"
      },
      "execution_count": 13,
      "outputs": [
        {
          "output_type": "stream",
          "name": "stdout",
          "text": [
            "35.237.95.94\n"
          ]
        }
      ]
    },
    {
      "cell_type": "markdown",
      "source": [
        "### Create the tunnel to access it from anywhere\n",
        "\n",
        "Run the tunnel and use the link below to connect to the tunnel.\n",
        "\n",
        "Use the IP from the previous step to connect to the application"
      ],
      "metadata": {
        "id": "ZXLKpEvMe-D2"
      }
    },
    {
      "cell_type": "code",
      "source": [
        "!npx localtunnel --port 8501"
      ],
      "metadata": {
        "id": "ertvvtnifAZy",
        "colab": {
          "base_uri": "https://localhost:8080/"
        },
        "outputId": "53f37351-50e7-4a9b-9bc4-119e8f3b349b"
      },
      "execution_count": 14,
      "outputs": [
        {
          "output_type": "stream",
          "name": "stdout",
          "text": [
            "\u001b[K\u001b[?25hnpx: installed 22 in 2.341s\n",
            "your url is: https://slow-vans-thank.loca.lt\n",
            "^C\n"
          ]
        }
      ]
    },
    {
      "cell_type": "markdown",
      "source": [
        "Success you build your first Gen AI Application.\n",
        "\n",
        "You can try it by asking question such as \"Who is Beethoven?\" or \"What is football?\" and see the answers."
      ],
      "metadata": {
        "id": "AcvvIMxxGIun"
      }
    },
    {
      "cell_type": "markdown",
      "metadata": {
        "id": "WHBfQus1TfRG"
      },
      "source": [
        "## Next steps\n",
        "\n",
        "Now you know how to quickly put together an interface that allows you to ask questions and get answer from a specific dataset, in this notebook example, wikipedia.\n",
        "\n",
        "You can adapt this example to use your own dataset, and use the streamlit application as a blueprint for integrating with your own application."
      ]
    }
  ],
  "metadata": {
    "kernelspec": {
      "display_name": "Python 3.11.3 64-bit",
      "language": "python",
      "name": "python3"
    },
    "language_info": {
      "codemirror_mode": {
        "name": "ipython",
        "version": 3
      },
      "file_extension": ".py",
      "mimetype": "text/x-python",
      "name": "python",
      "nbconvert_exporter": "python",
      "pygments_lexer": "ipython3",
      "version": "3.11.3"
    },
    "orig_nbformat": 4,
    "vscode": {
      "interpreter": {
        "hash": "b0fa6594d8f4cbf19f97940f81e996739fb7646882a419484c72d19e05852a7e"
      }
    },
    "colab": {
      "provenance": []
    },
    "widgets": {
      "application/vnd.jupyter.widget-state+json": {
        "4b9076717c6844e2a592dd8d2a4d3176": {
          "model_module": "@jupyter-widgets/controls",
          "model_name": "HBoxModel",
          "model_module_version": "1.5.0",
          "state": {
            "_dom_classes": [],
            "_model_module": "@jupyter-widgets/controls",
            "_model_module_version": "1.5.0",
            "_model_name": "HBoxModel",
            "_view_count": null,
            "_view_module": "@jupyter-widgets/controls",
            "_view_module_version": "1.5.0",
            "_view_name": "HBoxView",
            "box_style": "",
            "children": [
              "IPY_MODEL_150d151bcb7e4ba3864bd240fdb67c4c",
              "IPY_MODEL_92994757887145e7a6b5df1cd0207e13",
              "IPY_MODEL_1a6b00b580c643b5a5410f47a11d3808"
            ],
            "layout": "IPY_MODEL_3f57772d66e54f74848b96e7c36ce498"
          }
        },
        "150d151bcb7e4ba3864bd240fdb67c4c": {
          "model_module": "@jupyter-widgets/controls",
          "model_name": "HTMLModel",
          "model_module_version": "1.5.0",
          "state": {
            "_dom_classes": [],
            "_model_module": "@jupyter-widgets/controls",
            "_model_module_version": "1.5.0",
            "_model_name": "HTMLModel",
            "_view_count": null,
            "_view_module": "@jupyter-widgets/controls",
            "_view_module_version": "1.5.0",
            "_view_name": "HTMLView",
            "description": "",
            "description_tooltip": null,
            "layout": "IPY_MODEL_6a44a9e385f5414890fc8e0b42d5df40",
            "placeholder": "​",
            "style": "IPY_MODEL_78898334c9804efaad13c045ccea08b7",
            "value": "100%"
          }
        },
        "92994757887145e7a6b5df1cd0207e13": {
          "model_module": "@jupyter-widgets/controls",
          "model_name": "FloatProgressModel",
          "model_module_version": "1.5.0",
          "state": {
            "_dom_classes": [],
            "_model_module": "@jupyter-widgets/controls",
            "_model_module_version": "1.5.0",
            "_model_name": "FloatProgressModel",
            "_view_count": null,
            "_view_module": "@jupyter-widgets/controls",
            "_view_module_version": "1.5.0",
            "_view_name": "ProgressView",
            "bar_style": "",
            "description": "",
            "description_tooltip": null,
            "layout": "IPY_MODEL_5feed6551e60468580451b373d9f959a",
            "max": 25000,
            "min": 0,
            "orientation": "horizontal",
            "style": "IPY_MODEL_3883ead1e47b4deebdace64e7538742a",
            "value": 25000
          }
        },
        "1a6b00b580c643b5a5410f47a11d3808": {
          "model_module": "@jupyter-widgets/controls",
          "model_name": "HTMLModel",
          "model_module_version": "1.5.0",
          "state": {
            "_dom_classes": [],
            "_model_module": "@jupyter-widgets/controls",
            "_model_module_version": "1.5.0",
            "_model_name": "HTMLModel",
            "_view_count": null,
            "_view_module": "@jupyter-widgets/controls",
            "_view_module_version": "1.5.0",
            "_view_name": "HTMLView",
            "description": "",
            "description_tooltip": null,
            "layout": "IPY_MODEL_46bae2820ca848458d3dae72c7943f68",
            "placeholder": "​",
            "style": "IPY_MODEL_ef59ba9ca3034d229098e26e88c04472",
            "value": " 25000/25000 [15:20&lt;00:00, 29.74documents/s, success=25000]"
          }
        },
        "3f57772d66e54f74848b96e7c36ce498": {
          "model_module": "@jupyter-widgets/base",
          "model_name": "LayoutModel",
          "model_module_version": "1.2.0",
          "state": {
            "_model_module": "@jupyter-widgets/base",
            "_model_module_version": "1.2.0",
            "_model_name": "LayoutModel",
            "_view_count": null,
            "_view_module": "@jupyter-widgets/base",
            "_view_module_version": "1.2.0",
            "_view_name": "LayoutView",
            "align_content": null,
            "align_items": null,
            "align_self": null,
            "border": null,
            "bottom": null,
            "display": null,
            "flex": null,
            "flex_flow": null,
            "grid_area": null,
            "grid_auto_columns": null,
            "grid_auto_flow": null,
            "grid_auto_rows": null,
            "grid_column": null,
            "grid_gap": null,
            "grid_row": null,
            "grid_template_areas": null,
            "grid_template_columns": null,
            "grid_template_rows": null,
            "height": null,
            "justify_content": null,
            "justify_items": null,
            "left": null,
            "margin": null,
            "max_height": null,
            "max_width": null,
            "min_height": null,
            "min_width": null,
            "object_fit": null,
            "object_position": null,
            "order": null,
            "overflow": null,
            "overflow_x": null,
            "overflow_y": null,
            "padding": null,
            "right": null,
            "top": null,
            "visibility": null,
            "width": null
          }
        },
        "6a44a9e385f5414890fc8e0b42d5df40": {
          "model_module": "@jupyter-widgets/base",
          "model_name": "LayoutModel",
          "model_module_version": "1.2.0",
          "state": {
            "_model_module": "@jupyter-widgets/base",
            "_model_module_version": "1.2.0",
            "_model_name": "LayoutModel",
            "_view_count": null,
            "_view_module": "@jupyter-widgets/base",
            "_view_module_version": "1.2.0",
            "_view_name": "LayoutView",
            "align_content": null,
            "align_items": null,
            "align_self": null,
            "border": null,
            "bottom": null,
            "display": null,
            "flex": null,
            "flex_flow": null,
            "grid_area": null,
            "grid_auto_columns": null,
            "grid_auto_flow": null,
            "grid_auto_rows": null,
            "grid_column": null,
            "grid_gap": null,
            "grid_row": null,
            "grid_template_areas": null,
            "grid_template_columns": null,
            "grid_template_rows": null,
            "height": null,
            "justify_content": null,
            "justify_items": null,
            "left": null,
            "margin": null,
            "max_height": null,
            "max_width": null,
            "min_height": null,
            "min_width": null,
            "object_fit": null,
            "object_position": null,
            "order": null,
            "overflow": null,
            "overflow_x": null,
            "overflow_y": null,
            "padding": null,
            "right": null,
            "top": null,
            "visibility": null,
            "width": null
          }
        },
        "78898334c9804efaad13c045ccea08b7": {
          "model_module": "@jupyter-widgets/controls",
          "model_name": "DescriptionStyleModel",
          "model_module_version": "1.5.0",
          "state": {
            "_model_module": "@jupyter-widgets/controls",
            "_model_module_version": "1.5.0",
            "_model_name": "DescriptionStyleModel",
            "_view_count": null,
            "_view_module": "@jupyter-widgets/base",
            "_view_module_version": "1.2.0",
            "_view_name": "StyleView",
            "description_width": ""
          }
        },
        "5feed6551e60468580451b373d9f959a": {
          "model_module": "@jupyter-widgets/base",
          "model_name": "LayoutModel",
          "model_module_version": "1.2.0",
          "state": {
            "_model_module": "@jupyter-widgets/base",
            "_model_module_version": "1.2.0",
            "_model_name": "LayoutModel",
            "_view_count": null,
            "_view_module": "@jupyter-widgets/base",
            "_view_module_version": "1.2.0",
            "_view_name": "LayoutView",
            "align_content": null,
            "align_items": null,
            "align_self": null,
            "border": null,
            "bottom": null,
            "display": null,
            "flex": null,
            "flex_flow": null,
            "grid_area": null,
            "grid_auto_columns": null,
            "grid_auto_flow": null,
            "grid_auto_rows": null,
            "grid_column": null,
            "grid_gap": null,
            "grid_row": null,
            "grid_template_areas": null,
            "grid_template_columns": null,
            "grid_template_rows": null,
            "height": null,
            "justify_content": null,
            "justify_items": null,
            "left": null,
            "margin": null,
            "max_height": null,
            "max_width": null,
            "min_height": null,
            "min_width": null,
            "object_fit": null,
            "object_position": null,
            "order": null,
            "overflow": null,
            "overflow_x": null,
            "overflow_y": null,
            "padding": null,
            "right": null,
            "top": null,
            "visibility": null,
            "width": null
          }
        },
        "3883ead1e47b4deebdace64e7538742a": {
          "model_module": "@jupyter-widgets/controls",
          "model_name": "ProgressStyleModel",
          "model_module_version": "1.5.0",
          "state": {
            "_model_module": "@jupyter-widgets/controls",
            "_model_module_version": "1.5.0",
            "_model_name": "ProgressStyleModel",
            "_view_count": null,
            "_view_module": "@jupyter-widgets/base",
            "_view_module_version": "1.2.0",
            "_view_name": "StyleView",
            "bar_color": null,
            "description_width": ""
          }
        },
        "46bae2820ca848458d3dae72c7943f68": {
          "model_module": "@jupyter-widgets/base",
          "model_name": "LayoutModel",
          "model_module_version": "1.2.0",
          "state": {
            "_model_module": "@jupyter-widgets/base",
            "_model_module_version": "1.2.0",
            "_model_name": "LayoutModel",
            "_view_count": null,
            "_view_module": "@jupyter-widgets/base",
            "_view_module_version": "1.2.0",
            "_view_name": "LayoutView",
            "align_content": null,
            "align_items": null,
            "align_self": null,
            "border": null,
            "bottom": null,
            "display": null,
            "flex": null,
            "flex_flow": null,
            "grid_area": null,
            "grid_auto_columns": null,
            "grid_auto_flow": null,
            "grid_auto_rows": null,
            "grid_column": null,
            "grid_gap": null,
            "grid_row": null,
            "grid_template_areas": null,
            "grid_template_columns": null,
            "grid_template_rows": null,
            "height": null,
            "justify_content": null,
            "justify_items": null,
            "left": null,
            "margin": null,
            "max_height": null,
            "max_width": null,
            "min_height": null,
            "min_width": null,
            "object_fit": null,
            "object_position": null,
            "order": null,
            "overflow": null,
            "overflow_x": null,
            "overflow_y": null,
            "padding": null,
            "right": null,
            "top": null,
            "visibility": null,
            "width": null
          }
        },
        "ef59ba9ca3034d229098e26e88c04472": {
          "model_module": "@jupyter-widgets/controls",
          "model_name": "DescriptionStyleModel",
          "model_module_version": "1.5.0",
          "state": {
            "_model_module": "@jupyter-widgets/controls",
            "_model_module_version": "1.5.0",
            "_model_name": "DescriptionStyleModel",
            "_view_count": null,
            "_view_module": "@jupyter-widgets/base",
            "_view_module_version": "1.2.0",
            "_view_name": "StyleView",
            "description_width": ""
          }
        }
      }
    }
  },
  "nbformat": 4,
  "nbformat_minor": 0
}